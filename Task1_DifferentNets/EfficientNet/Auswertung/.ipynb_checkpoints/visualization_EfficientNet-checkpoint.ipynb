{
 "cells": [
  {
   "cell_type": "code",
   "execution_count": 1,
   "metadata": {},
   "outputs": [],
   "source": [
    "import os\n",
    "import csv\n",
    "import matplotlib.pyplot as plt\n",
    "import numpy as np\n",
    "import pandas as pd\n",
    "\n",
    "\n",
    "dataSets    = [ \"octmnist\", \"pneumoniamnist\" ,\"pathmnist\", \"chestmnist\",\"retinamnist\", \n",
    "                \"dermamnist\", \"breastmnist\", \"organmnist_coronal\", \"organmnist_sagittal\", \"organmnist_axial\"]\n",
    "\n",
    "\n",
    "octmnist_data = []\n",
    "pneumoniamnist_data = []\n",
    "pathmnist_data = []\n",
    "chestmnist_data = []\n",
    "retinamnist_data = []\n",
    "dermamnist_data = []\n",
    "breastmnist_data = []\n",
    "organmnist_coronal_data = []\n",
    "organmnist_sagittal_data = []\n",
    "organmnist_axial_data = []\n",
    "\n"
   ]
  },
  {
   "cell_type": "code",
   "execution_count": 2,
   "metadata": {},
   "outputs": [],
   "source": [
    "with open('../../../../TrainedNets/EfficientNet/results.csv', newline='') as csvfile:\n",
    "    reader = csv.DictReader(csvfile)\n",
    "    for row in reader:\n",
    "        for sets in dataSets:\n",
    "                if row[\"Datensatz\"] == sets:\n",
    "                    data_list = sets + \"_data\"\n",
    "                    vars()[data_list].append(row)\n",
    "                    "
   ]
  },
  {
   "cell_type": "code",
   "execution_count": 3,
   "metadata": {},
   "outputs": [],
   "source": [
    "for sets in dataSets:\n",
    "    perc_train = \"perc_train_\" + sets\n",
    "    auc_train = \"auc_train_\" + sets\n",
    "    acc_train = \"acc_train_\" + sets\n",
    "    samples_train = \"samples_train_\" + sets\n",
    "    perc_val = \"perc_val_\" + sets\n",
    "    auc_val = \"auc_val_\" + sets\n",
    "    acc_val = \"acc_val_\" + sets\n",
    "    samples_val = \"samples_val_\" + sets\n",
    "    perc_test = \"perc_test_\" + sets\n",
    "    auc_test = \"auc_test_\" + sets\n",
    "    acc_test = \"acc_test_\" + sets\n",
    "    samples_test = \"samples_test_\" + sets\n",
    "    vars()[perc_train] = []\n",
    "    vars()[auc_train]  = []\n",
    "    vars()[acc_train]  = []\n",
    "    vars()[samples_train]  = []\n",
    "    vars()[perc_val] = []\n",
    "    vars()[auc_val]  = []\n",
    "    vars()[acc_val]  = []\n",
    "    vars()[samples_val]  = []\n",
    "    vars()[perc_test] = []\n",
    "    vars()[auc_test]  = []\n",
    "    vars()[acc_test]  = []\n",
    "    vars()[samples_test]  = []"
   ]
  },
  {
   "cell_type": "code",
   "execution_count": 4,
   "metadata": {},
   "outputs": [],
   "source": [
    "for sets in dataSets:\n",
    "    data_list = sets + \"_data\"\n",
    "    for row in vars()[data_list]:\n",
    "        if row['Train/Validation/Test'] == 'train':\n",
    "            perc_train = \"perc_train_\" + sets\n",
    "            auc_train = \"auc_train_\" + sets\n",
    "            acc_train = \"acc_train_\" + sets\n",
    "            samples_train = \"samples_train_\" + sets\n",
    "            vars()[perc_train].append(row['Prozent des Trainingssatzes'])\n",
    "            vars()[auc_train].append(row['AUC'])\n",
    "            vars()[acc_train].append(row['ACC'])\n",
    "            vars()[samples_train].append(row['Samples'])\n",
    "        if row['Train/Validation/Test'] == 'val':\n",
    "            perc_val = \"perc_val_\" + sets\n",
    "            auc_val = \"auc_val_\" + sets\n",
    "            acc_val = \"acc_val_\" + sets\n",
    "            samples_val = \"samples_val_\" + sets\n",
    "            vars()[perc_val].append(row['Prozent des Trainingssatzes'])\n",
    "            vars()[auc_val].append(row['AUC'])\n",
    "            vars()[acc_val].append(row['ACC'])\n",
    "            vars()[samples_val].append(row['Samples'])\n",
    "        if row['Train/Validation/Test'] == 'test':\n",
    "            perc_test = \"perc_test_\" + sets\n",
    "            auc_test = \"auc_test_\" + sets\n",
    "            acc_test = \"acc_test_\" + sets\n",
    "            samples_test = \"samples_test_\" + sets\n",
    "            vars()[perc_test].append(row['Prozent des Trainingssatzes'])\n",
    "            vars()[auc_test].append(row['AUC'])\n",
    "            vars()[acc_test].append(row['ACC'])\n",
    "            vars()[samples_test].append(row['Samples'])"
   ]
  },
  {
   "cell_type": "code",
   "execution_count": 5,
   "metadata": {},
   "outputs": [
    {
     "data": {
      "text/plain": [
       "['0.9891641891188755',\n",
       " '0.9898410615658257',\n",
       " '0.9795269209566755',\n",
       " '0.9473619930500393',\n",
       " '0.9794755713825288']"
      ]
     },
     "execution_count": 5,
     "metadata": {},
     "output_type": "execute_result"
    }
   ],
   "source": [
    "[auc_train_octmnist for _,auc_train_octmnist in sorted(zip(perc_train,auc_train_octmnist))]\n",
    "[auc_train_pneumoniamnist for _,auc_train_pneumoniamnist in sorted(zip(perc_train,auc_train_pneumoniamnist))]\n",
    "[auc_train_pathmnist for _,auc_train_pathmnist in sorted(zip(perc_train,auc_train_pathmnist))]\n",
    "[auc_train_chestmnist for _,auc_train_chestmnist in sorted(zip(perc_train,auc_train_chestmnist))]\n",
    "[auc_train_retinamnist for _,auc_train_retinamnist in sorted(zip(perc_train,auc_train_retinamnist))]\n",
    "[auc_train_dermamnist for _,auc_train_dermamnist in sorted(zip(perc_train,auc_train_dermamnist))]\n",
    "[auc_train_breastmnist for _,auc_train_breastmnist in sorted(zip(perc_train,auc_train_breastmnist))]\n",
    "[auc_train_organmnist_coronal for _,auc_train_organmnist_coronal in sorted(zip(perc_train,auc_train_organmnist_coronal))]\n",
    "[auc_train_organmnist_sagittal for _,auc_train_organmnist_sagittal in sorted(zip(perc_train,auc_train_organmnist_sagittal))]\n",
    "[auc_train_organmnist_axial for _,auc_train_organmnist_axial in sorted(zip(perc_train,auc_train_organmnist_axial))]\n",
    "\n",
    "\n",
    "[auc_val_octmnist for _,auc_val_octmnist in sorted(zip(perc_val,auc_val_octmnist))]\n",
    "[auc_val_pneumoniamnist for _,auc_val_pneumoniamnist in sorted(zip(perc_val,auc_val_pneumoniamnist))]\n",
    "[auc_val_pathmnist for _,auc_val_pathmnist in sorted(zip(perc_val,auc_val_pathmnist))]\n",
    "[auc_val_chestmnist for _,auc_val_chestmnist in sorted(zip(perc_val,auc_val_chestmnist))]\n",
    "[auc_val_retinamnist for _,auc_val_retinamnist in sorted(zip(perc_val,auc_val_retinamnist))]\n",
    "[auc_val_dermamnist for _,auc_val_dermamnist in sorted(zip(perc_val,auc_val_dermamnist))]\n",
    "[auc_val_breastmnist for _,auc_val_breastmnist in sorted(zip(perc_val,auc_val_breastmnist))]\n",
    "[auc_val_organmnist_coronal for _,auc_val_organmnist_coronal in sorted(zip(perc_val,auc_val_organmnist_coronal))]\n",
    "[auc_val_organmnist_sagittal for _,auc_val_organmnist_sagittal in sorted(zip(perc_val,auc_val_organmnist_sagittal))]\n",
    "[auc_val_organmnist_axial for _,auc_val_organmnist_axial in sorted(zip(perc_val,auc_val_organmnist_axial))]\n",
    "\n",
    "\n",
    "[auc_test_octmnist for _,auc_test_octmnist in sorted(zip(perc_test,auc_test_octmnist))]\n",
    "[auc_test_pneumoniamnist for _,auc_test_pneumoniamnist in sorted(zip(perc_test,auc_test_pneumoniamnist))]\n",
    "[auc_test_pathmnist for _,auc_test_pathmnist in sorted(zip(perc_test,auc_test_pathmnist))]\n",
    "[auc_test_chestmnist for _,auc_test_chestmnist in sorted(zip(perc_test,auc_test_chestmnist))]\n",
    "[auc_test_retinamnist for _,auc_test_retinamnist in sorted(zip(perc_test,auc_test_retinamnist))]\n",
    "[auc_test_dermamnist for _,auc_test_dermamnist in sorted(zip(perc_test,auc_test_dermamnist))]\n",
    "[auc_test_breastmnist for _,auc_test_breastmnist in sorted(zip(perc_test,auc_test_breastmnist))]\n",
    "[auc_test_organmnist_coronal for _,auc_test_organmnist_coronal in sorted(zip(perc_test,auc_test_organmnist_coronal))]\n",
    "[auc_test_organmnist_sagittal for _,auc_test_organmnist_sagittal in sorted(zip(perc_test,auc_test_organmnist_sagittal))]\n",
    "[auc_test_organmnist_axial for _,auc_test_organmnist_axial in sorted(zip(perc_test,auc_test_organmnist_axial))]\n"
   ]
  },
  {
   "cell_type": "code",
   "execution_count": 6,
   "metadata": {},
   "outputs": [
    {
     "data": {
      "text/plain": [
       "['0.9006637417032287',\n",
       " '0.8961075486556418',\n",
       " '0.8500956238047025',\n",
       " '0.6869164135448307',\n",
       " '0.8254021824727191']"
      ]
     },
     "execution_count": 6,
     "metadata": {},
     "output_type": "execute_result"
    }
   ],
   "source": [
    "[acc_train_octmnist for _,acc_train_octmnist in sorted(zip(perc_train,acc_train_octmnist))]\n",
    "[acc_train_pneumoniamnist for _,acc_train_pneumoniamnist in sorted(zip(perc_train,acc_train_pneumoniamnist))]\n",
    "[acc_train_pathmnist for _,acc_train_pathmnist in sorted(zip(perc_train,acc_train_pathmnist))]\n",
    "[acc_train_chestmnist for _,acc_train_chestmnist in sorted(zip(perc_train,acc_train_chestmnist))]\n",
    "[acc_train_retinamnist for _,acc_train_retinamnist in sorted(zip(perc_train,acc_train_retinamnist))]\n",
    "[acc_train_dermamnist for _,acc_train_dermamnist in sorted(zip(perc_train,acc_train_dermamnist))]\n",
    "[acc_train_breastmnist for _,acc_train_breastmnist in sorted(zip(perc_train,acc_train_breastmnist))]\n",
    "[acc_train_organmnist_coronal for _,acc_train_organmnist_coronal in sorted(zip(perc_train,acc_train_organmnist_coronal))]\n",
    "[acc_train_organmnist_sagittal for _,acc_train_organmnist_sagittal in sorted(zip(perc_train,acc_train_organmnist_sagittal))]\n",
    "[acc_train_organmnist_axial for _,acc_train_organmnist_axial in sorted(zip(perc_train,acc_train_organmnist_axial))]\n",
    "\n",
    "\n",
    "[acc_val_octmnist for _,acc_val_octmnist in sorted(zip(perc_val,acc_val_octmnist))]\n",
    "[acc_val_pneumoniamnist for _,acc_val_pneumoniamnist in sorted(zip(perc_val,acc_val_pneumoniamnist))]\n",
    "[acc_val_pathmnist for _,acc_val_pathmnist in sorted(zip(perc_val,acc_val_pathmnist))]\n",
    "[acc_val_chestmnist for _,acc_val_chestmnist in sorted(zip(perc_val,acc_val_chestmnist))]\n",
    "[acc_val_retinamnist for _,acc_val_retinamnist in sorted(zip(perc_val,acc_val_retinamnist))]\n",
    "[acc_val_dermamnist for _,acc_val_dermamnist in sorted(zip(perc_val,acc_val_dermamnist))]\n",
    "[acc_val_breastmnist for _,acc_val_breastmnist in sorted(zip(perc_val,acc_val_breastmnist))]\n",
    "[acc_val_organmnist_coronal for _,acc_val_organmnist_coronal in sorted(zip(perc_val,acc_val_organmnist_coronal))]\n",
    "[acc_val_organmnist_sagittal for _,acc_val_organmnist_sagittal in sorted(zip(perc_val,acc_val_organmnist_sagittal))]\n",
    "[acc_val_organmnist_axial for _,acc_val_organmnist_axial in sorted(zip(perc_val,acc_val_organmnist_axial))]\n",
    "\n",
    "\n",
    "[acc_test_octmnist for _,acc_test_octmnist in sorted(zip(perc_test,acc_test_octmnist))]\n",
    "[acc_test_pneumoniamnist for _,acc_test_pneumoniamnist in sorted(zip(perc_test,acc_test_pneumoniamnist))]\n",
    "[acc_test_pathmnist for _,acc_test_pathmnist in sorted(zip(perc_test,acc_test_pathmnist))]\n",
    "[acc_test_chestmnist for _,acc_test_chestmnist in sorted(zip(perc_test,acc_test_chestmnist))]\n",
    "[acc_test_retinamnist for _,acc_test_retinamnist in sorted(zip(perc_test,acc_test_retinamnist))]\n",
    "[acc_test_dermamnist for _,acc_test_dermamnist in sorted(zip(perc_test,acc_test_dermamnist))]\n",
    "[acc_test_breastmnist for _,acc_test_breastmnist in sorted(zip(perc_test,acc_test_breastmnist))]\n",
    "[acc_test_organmnist_coronal for _,acc_test_organmnist_coronal in sorted(zip(perc_test,acc_train_organmnist_coronal))]\n",
    "[acc_test_organmnist_sagittal for _,acc_test_organmnist_sagittal in sorted(zip(perc_test,acc_test_organmnist_sagittal))]\n",
    "[acc_test_organmnist_axial for _,acc_test_organmnist_axial in sorted(zip(perc_test,acc_test_organmnist_axial))]\n",
    "\n"
   ]
  },
  {
   "cell_type": "code",
   "execution_count": 10,
   "metadata": {},
   "outputs": [],
   "source": [
    "setting = \"test\"\n",
    "auc_acc = \"acc\""
   ]
  },
  {
   "cell_type": "code",
   "execution_count": 11,
   "metadata": {},
   "outputs": [],
   "source": [
    "# Make a data frame\n",
    "df_perc = pd.DataFrame({'percentage': [0.1, 0.25, 0.5, 0.75, 1.0]})\n",
    "df_x=pd.DataFrame({     \n",
    "        'x_octmnist' : [float(i.replace(\",\",\".\")) for i in vars()[\"samples_\" + setting + \"_octmnist\"]],\n",
    "        'x_pneumoniamnist' : [float(i.replace(\",\",\".\")) for i in vars()[\"samples_\" + setting + \"_pneumoniamnist\"]],\n",
    "        'x_pathmnist' : [float(i.replace(\",\",\".\")) for i in vars()[\"samples_\" + setting + \"_pathmnist\"]],\n",
    "        'x_chestmnist' : [float(i.replace(\",\",\".\")) for i in vars()[\"samples_\" + setting + \"_chestmnist\"]],\n",
    "        'x_retinamnist' : [float(i.replace(\",\",\".\")) for i in vars()[\"samples_\" + setting + \"_retinamnist\"]],\n",
    "        'x_dermamnist' : [float(i.replace(\",\",\".\")) for i in vars()[\"samples_\" + setting + \"_dermamnist\"]],\n",
    "        'x_breastmnist' : [float(i.replace(\",\",\".\")) for i in vars()[\"samples_\" + setting + \"_breastmnist\"]],\n",
    "        'x_organmnist_coronal' : [float(i.replace(\",\",\".\")) for i in vars()[\"samples_\" + setting + \"_organmnist_coronal\"]],\n",
    "        'x_organmnist_sagittal' : [float(i.replace(\",\",\".\")) for i in vars()[\"samples_\" + setting + \"_organmnist_sagittal\"]],\n",
    "        'x_organmnist_axial' : [float(i.replace(\",\",\".\")) for i in vars()[\"samples_\" + setting + \"_organmnist_axial\"]] })             \n"
   ]
  },
  {
   "cell_type": "code",
   "execution_count": 14,
   "metadata": {},
   "outputs": [],
   "source": [
    "# Make a data frame with acc data\n",
    "if auc_acc == \"acc\":\n",
    "    df_value = pd.DataFrame({'octmnist': [float(i.replace(\",\",\".\")) for i in vars()[\"acc_\" + setting + \"_octmnist\"]], \n",
    "            'pneumoniamnist': [float(i.replace(\",\",\".\")) for i in vars()[\"acc_\" + setting + \"_pneumoniamnist\"]], \n",
    "            'pathmnist': [float(i.replace(\",\",\".\")) for i in vars()[\"acc_\" + setting + \"_pathmnist\"]], \n",
    "            'chestmnist': [float(i.replace(\",\",\".\")) for i in vars()[\"acc_\" + setting + \"_chestmnist\"]], \n",
    "            'retinamnist': [float(i.replace(\",\",\".\")) for i in vars()[\"acc_\" + setting + \"_retinamnist\"]], \n",
    "            'dermamnist': [float(i.replace(\",\",\".\")) for i in vars()[\"acc_\" + setting + \"_dermamnist\"]], \n",
    "            'breastmnist': [float(i.replace(\",\",\".\")) for i in vars()[\"acc_\" + setting + \"_breastmnist\"]], \n",
    "            'organmnist_coronal': [float(i.replace(\",\",\".\")) for i in vars()[\"acc_\" + setting + \"_organmnist_coronal\"]], \n",
    "            'organmnist_sagittal': [float(i.replace(\",\",\".\")) for i in vars()[\"acc_\" + setting + \"_organmnist_sagittal\"]], \n",
    "            'organmnist_axial': [float(i.replace(\",\",\".\")) for i in vars()[\"acc_\" + setting + \"_organmnist_axial\"]]})\n",
    "else:\n",
    "    # Make a data frame with auc data\n",
    "    df_value=pd.DataFrame({'octmnist': [float(i.replace(\",\",\".\")) for i in vars()[\"auc_\" + setting + \"_octmnist\"]], \n",
    "            'pneumoniamnist': [float(i.replace(\",\",\".\")) for i in vars()[\"auc_\" + setting + \"_pneumoniamnist\"]], \n",
    "            'pathmnist': [float(i.replace(\",\",\".\")) for i in vars()[\"auc_\" + setting + \"_pathmnist\"]], \n",
    "            'chestmnist': [float(i.replace(\",\",\".\")) for i in vars()[\"auc_\" + setting + \"_chestmnist\"]], \n",
    "            'retinamnist': [float(i.replace(\",\",\".\")) for i in vars()[\"auc_\" + setting + \"_retinamnist\"]], \n",
    "            'dermamnist': [float(i.replace(\",\",\".\")) for i in vars()[\"auc_\" + setting + \"_dermamnist\"]], \n",
    "            'breastmnist': [float(i.replace(\",\",\".\")) for i in vars()[\"auc_\" + setting + \"_breastmnist\"]], \n",
    "            'organmnist_coronal': [float(i.replace(\",\",\".\")) for i in vars()[\"auc_\" + setting + \"_organmnist_coronal\"]], \n",
    "            'organmnist_sagittal': [float(i.replace(\",\",\".\")) for i in vars()[\"auc_\" + setting + \"_organmnist_sagittal\"]], \n",
    "            'organmnist_axial': [float(i.replace(\",\",\".\")) for i in vars()[\"auc_\" + setting + \"_organmnist_axial\"]] })\n",
    "\n"
   ]
  },
  {
   "cell_type": "code",
   "execution_count": 15,
   "metadata": {},
   "outputs": [
    {
     "name": "stderr",
     "output_type": "stream",
     "text": [
      "<ipython-input-15-1701e9c6188f>:11: MatplotlibDeprecationWarning: Adding an axes using the same arguments as a previous axes currently reuses the earlier instance.  In a future version, a new instance will always be created and returned.  Meanwhile, this warning can be suppressed, and the future behavior ensured, by passing a unique label to each axes instance.\n",
      "  ax = plt.axes()\n"
     ]
    },
    {
     "data": {
      "image/png": "[encoded data removed]",
      "text/plain": [
       "<Figure size 432x288 with 1 Axes>"
      ]
     },
     "metadata": {},
     "output_type": "display_data"
    }
   ],
   "source": [
    "# style\n",
    "plt.style.use('seaborn-darkgrid')\n",
    "# create a color palette\n",
    "palette = ['red', 'green', 'blue', 'yellow', 'aquamarine', 'gray', 'darkviolet', 'orange', 'pink', 'olive', 'black']\n",
    "# multiple line plot\n",
    "for idx, (x, value) in enumerate(zip(df_x, df_value)):\n",
    "    if idx<10:\n",
    "        plt.plot(df_x[x], df_value[value], marker='x', color=palette[idx], linewidth=1, alpha=0.9, label=value)\n",
    "        #for x,y,idx in zip(df_x[x],df_value[value], df_perc['percentage']):\n",
    "            #plt.annotate(idx,(x,y),textcoords=\"offset points\", xytext=(0,-15), color=palette(num), ha='center')\n",
    "ax = plt.axes()\n",
    "plt.xscale(\"log\")\n",
    "\n",
    "# Add legend\n",
    "plt.legend(df_value, bbox_to_anchor=(1.05, 1.0), loc='upper left', ncol=1)\n",
    "\n",
    "\n",
    "import matplotlib.patches as mpatches\n",
    "\n",
    "\n",
    "\n",
    "# Add titles\n",
    "if setting == \"train\":\n",
    "    plt.xlabel(\"used Samples of Train Dataset\")\n",
    "    if auc_acc == \"acc\":\n",
    "        plt.title(\"ACC Results of Training Data with EfficientNet\", loc='left', fontsize=12, fontweight=0, color='orange', pad=20)\n",
    "        plt.ylabel(\"ACC\")\n",
    "        plt.savefig(\"EfficientNet_Training_ACC.svg\",bbox_inches = 'tight')\n",
    "    else:\n",
    "        plt.title(\"AUC Results of Training Data with EfficientNet\", loc='left', fontsize=12, fontweight=0, color='orange', pad=20)\n",
    "        plt.ylabel(\"AUC\")\n",
    "        plt.savefig(\"EfficientNet_Training_AUC.svg\",bbox_inches = 'tight')\n",
    "\n",
    "elif setting == \"val\":\n",
    "    plt.xlabel(\"used Samples of Train Dataset\")\n",
    "    if auc_acc == \"acc\":\n",
    "        plt.title(\"ACC Results of Validation Data with EfficientNet\", loc='left', fontsize=12, fontweight=0, color='orange', pad=20)\n",
    "        plt.ylabel(\"ACC\")\n",
    "        plt.savefig(\"EfficientNet_Validation_ACC.svg\",bbox_inches = 'tight')\n",
    "    else:\n",
    "        plt.title(\"AUC Results of Validation Data with EfficientNet\", loc='left', fontsize=12, fontweight=0, color='orange', pad=20)\n",
    "        plt.ylabel(\"AUC\")\n",
    "        plt.savefig(\"EfficientNet_Validation_AUC.svg\",bbox_inches = 'tight')\n",
    "elif setting == \"test\":\n",
    "    plt.xlabel(\"used Samples of Train Dataset\")\n",
    "    if auc_acc == \"acc\":\n",
    "        plt.title(\"ACC Results of Test Data with EfficientNet\", loc='left', fontsize=12, fontweight=0, color='orange', pad=20)\n",
    "        plt.ylabel(\"ACC\")\n",
    "        plt.savefig(\"EfficientNet_Test_ACC.svg\",bbox_inches = 'tight')\n",
    "    else:\n",
    "        plt.title(\"AUC Results of Test Data with EfficientNet\", loc='left', fontsize=12, fontweight=0, color='orange', pad=20)\n",
    "        plt.ylabel(\"AUC\")\n",
    "        plt.savefig(\"EfficientNet_Test_AUC.svg\",bbox_inches = 'tight')\n",
    "else:\n",
    "    print(\"Fehler\")"
   ]
  },
  {
   "cell_type": "code",
   "execution_count": null,
   "metadata": {},
   "outputs": [],
   "source": []
  }
 ],
 "metadata": {
  "kernelspec": {
   "display_name": "Python 3",
   "language": "python",
   "name": "python3"
  },
  "language_info": {
   "codemirror_mode": {
    "name": "ipython",
    "version": 3
   },
   "file_extension": ".py",
   "mimetype": "text/x-python",
   "name": "python",
   "nbconvert_exporter": "python",
   "pygments_lexer": "ipython3",
   "version": "3.8.5"
  }
 },
 "nbformat": 4,
 "nbformat_minor": 2
}
